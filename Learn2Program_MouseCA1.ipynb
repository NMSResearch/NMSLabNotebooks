{
  "nbformat": 4,
  "nbformat_minor": 0,
  "metadata": {
    "colab": {
      "provenance": []
    },
    "kernelspec": {
      "name": "python3",
      "display_name": "Python 3"
    },
    "language_info": {
      "name": "python"
    }
  },
  "cells": [
    {
      "cell_type": "markdown",
      "source": [
        "\n",
        "**In this notebook, we will use data from calcium imaging in CA1 of freely-behaving mice (Lee et al., 2025) to study remapping in the hippocampus.** Original dataset can be found on Zenodo: https://zenodo.org/records/14867736\n",
        "\n",
        "*You are asked to*\n",
        "\n",
        "1) Plot calcium imaging and behavioral data in intuitive and informative graphic visualizations\n",
        "\n",
        "2) Measure basic statistics of animal behavior, and plot the results in easily interpreted graphs\n",
        "\n",
        "3) Generate event rate maps from combined calcium imaging and behavioral data, and plot statistics such as calcium event rate and spatial reliability for each recorded neuron\n",
        "\n",
        "4) Decode animal position from calcium imaging data, and plot the results in an intuitive and informative way"
      ],
      "metadata": {
        "id": "VoBJgU1u4lda"
      }
    },
    {
      "cell_type": "markdown",
      "source": [
        "Start by loading subset of data from Lee et al. (2025) complete dataset is available on Zenodo"
      ],
      "metadata": {
        "id": "pgxys86q59xN"
      }
    },
    {
      "cell_type": "code",
      "source": [
        "#@title **Import necessary libraries for data loading and analysis and visualization**\n",
        "import sys, os\n",
        "import numpy as np\n",
        "import matplotlib.pyplot as plt\n",
        "import scipy\n",
        "import seaborn as sns\n",
        "from scipy import stats\n",
        "import os, warnings\n",
        "warnings.filterwarnings('ignore')\n",
        "import pandas as pd\n",
        "import numpy as np\n",
        "import matplotlib\n",
        "from sklearn.model_selection import KFold\n",
        "from scipy.ndimage import gaussian_filter1d, gaussian_filter\n",
        "import matplotlib.pyplot as plt\n",
        "from tqdm import tqdm\n",
        "from scipy.stats import pearsonr\n",
        "from glob import glob\n",
        "import cv2\n",
        "import joblib\n",
        "from copy import deepcopy\n",
        "from sklearn.naive_bayes import GaussianNB\n",
        "!pip install mat73\n",
        "from mat73 import loadmat"
      ],
      "metadata": {
        "cellView": "form",
        "id": "zWOWdu_bg7tZ",
        "colab": {
          "base_uri": "https://localhost:8080/"
        },
        "outputId": "81e4c943-f839-457f-b937-7ed00841375b"
      },
      "execution_count": null,
      "outputs": [
        {
          "output_type": "stream",
          "name": "stdout",
          "text": [
            "Collecting mat73\n",
            "  Downloading mat73-0.65-py3-none-any.whl.metadata (3.6 kB)\n",
            "Requirement already satisfied: h5py in /usr/local/lib/python3.12/dist-packages (from mat73) (3.14.0)\n",
            "Requirement already satisfied: numpy in /usr/local/lib/python3.12/dist-packages (from mat73) (2.0.2)\n",
            "Downloading mat73-0.65-py3-none-any.whl (19 kB)\n",
            "Installing collected packages: mat73\n",
            "Successfully installed mat73-0.65\n"
          ]
        }
      ]
    },
    {
      "cell_type": "code",
      "metadata": {
        "colab": {
          "base_uri": "https://localhost:8080/"
        },
        "id": "4a58ce97",
        "outputId": "0d935440-82af-40a1-fe3b-233a73b16212",
        "cellView": "form"
      },
      "source": [
        "#@title **Download data from Dropbox using wget and check file type**\n",
        "!wget -O data.zip \"https://www.dropbox.com/scl/fo/jxwjsrjuqh3at4m6dbcy6/AE1bpRkPJ43U4zTK_tiH3fk?rlkey=gkmaw6307cl3sofkbt0cvetzh&st=di37vg9a&dl=0\"\n",
        "\n",
        "import zipfile\n",
        "import os\n",
        "\n",
        "file_path = './data.zip'\n",
        "if os.path.exists(file_path):\n",
        "    if zipfile.is_zipfile(file_path):\n",
        "        print(\"Downloaded file is a valid zip file. Proceeding to unzip.\")\n",
        "        !unzip -o ./data.zip # -o flag overwrites existing files without prompting\n",
        "    else:\n",
        "        print(\"Downloaded file is NOT a valid zip file. Please check the download link.\")\n",
        "else:\n",
        "    print(\"Download failed. The file 'data.zip' was not created.\")"
      ],
      "execution_count": null,
      "outputs": [
        {
          "output_type": "stream",
          "name": "stdout",
          "text": [
            "--2025-09-08 21:02:24--  https://www.dropbox.com/scl/fo/jxwjsrjuqh3at4m6dbcy6/AE1bpRkPJ43U4zTK_tiH3fk?rlkey=gkmaw6307cl3sofkbt0cvetzh&st=di37vg9a&dl=0\n",
            "Resolving www.dropbox.com (www.dropbox.com)... 162.125.81.18, 2620:100:6031:18::a27d:5112\n",
            "Connecting to www.dropbox.com (www.dropbox.com)|162.125.81.18|:443... connected.\n",
            "HTTP request sent, awaiting response... 302 Found\n",
            "Location: https://uc66f14133066d003d2046c7e90b.dl.dropboxusercontent.com/zip_download_get/CUY0UYQUPQrlu0non4jUp2U3Ca_d9mMwaorDoFKWtlmT0Bx3wXpvD-sHFFr79B84H4H72DUfWpJDPJJ_i76mgQGNeHREB4jBtLO7bm1ZtR85xA# [following]\n",
            "--2025-09-08 21:02:25--  https://uc66f14133066d003d2046c7e90b.dl.dropboxusercontent.com/zip_download_get/CUY0UYQUPQrlu0non4jUp2U3Ca_d9mMwaorDoFKWtlmT0Bx3wXpvD-sHFFr79B84H4H72DUfWpJDPJJ_i76mgQGNeHREB4jBtLO7bm1ZtR85xA\n",
            "Resolving uc66f14133066d003d2046c7e90b.dl.dropboxusercontent.com (uc66f14133066d003d2046c7e90b.dl.dropboxusercontent.com)... 162.125.81.15, 2620:100:6031:15::a27d:510f\n",
            "Connecting to uc66f14133066d003d2046c7e90b.dl.dropboxusercontent.com (uc66f14133066d003d2046c7e90b.dl.dropboxusercontent.com)|162.125.81.15|:443... connected.\n",
            "HTTP request sent, awaiting response... 200 OK\n",
            "Length: 43454662 (41M) [application/zip]\n",
            "Saving to: ‘data.zip’\n",
            "\n",
            "data.zip            100%[===================>]  41.44M  18.0MB/s    in 2.3s    \n",
            "\n",
            "2025-09-08 21:02:27 (18.0 MB/s) - ‘data.zip’ saved [43454662/43454662]\n",
            "\n",
            "Downloaded file is a valid zip file. Proceeding to unzip.\n",
            "Archive:  ./data.zip\n",
            "warning:  stripped absolute path spec from /\n",
            "mapname:  conversion of  failed\n",
            " extracting: minidata                \n"
          ]
        }
      ]
    },
    {
      "cell_type": "code",
      "source": [
        "main_path = \"/content\"\n",
        "dataset = joblib.load(os.path.join(main_path, \"minidata\"))"
      ],
      "metadata": {
        "id": "Zj1mz8ksmb5G"
      },
      "execution_count": null,
      "outputs": []
    },
    {
      "cell_type": "code",
      "source": [
        "# The dataset is contained in a dictionary with several keys\n",
        "dataset.keys()"
      ],
      "metadata": {
        "colab": {
          "base_uri": "https://localhost:8080/"
        },
        "id": "GQMrvQ1Pcd60",
        "outputId": "b53a11e0-9706-4231-b775-21264e2e2eec"
      },
      "execution_count": null,
      "outputs": [
        {
          "output_type": "execute_result",
          "data": {
            "text/plain": [
              "dict_keys(['animal', 'traces', 'envs', 'position'])"
            ]
          },
          "metadata": {},
          "execution_count": 4
        }
      ]
    },
    {
      "cell_type": "markdown",
      "source": [
        "###**Dataset keys**\n",
        "#### animal: animal ID from experiment as a string (QL-CA1-50)\n",
        "#### traces: calcium traces for 11 days of geometries (sequence 2, days 11 - 21) which has shape [days, neurons, frames]\n",
        "#### envs: list of environment names as strings\n",
        "#### position: x- and y-position of animal centre of mass on each day which has shape [days, positions, frames]"
      ],
      "metadata": {
        "id": "dX7GaosrjmSK"
      }
    },
    {
      "cell_type": "markdown",
      "source": [
        "#### ***Task 1*** - Plot calcium imaging and behavioral data in intuitive and informative graphic visualizations\n"
      ],
      "metadata": {
        "id": "Ii6pnf-Hkyjz"
      }
    },
    {
      "cell_type": "code",
      "source": [],
      "metadata": {
        "id": "htWkYzNOlKaH"
      },
      "execution_count": null,
      "outputs": []
    },
    {
      "cell_type": "code",
      "source": [],
      "metadata": {
        "id": "hcgf-_qQNnT5"
      },
      "execution_count": null,
      "outputs": []
    },
    {
      "cell_type": "code",
      "source": [],
      "metadata": {
        "id": "EO2_9FrSNnZt"
      },
      "execution_count": null,
      "outputs": []
    },
    {
      "cell_type": "markdown",
      "source": [
        "####***Task 2*** - Measure basic statistics of animal behavior, and plot the results in easily interpreted graphs"
      ],
      "metadata": {
        "id": "xeYPjMAclKyE"
      }
    },
    {
      "cell_type": "code",
      "source": [],
      "metadata": {
        "id": "Rli7TA5wlXJJ"
      },
      "execution_count": null,
      "outputs": []
    },
    {
      "cell_type": "code",
      "source": [],
      "metadata": {
        "id": "yMj2p9jGlZk5"
      },
      "execution_count": null,
      "outputs": []
    },
    {
      "cell_type": "code",
      "source": [],
      "metadata": {
        "id": "Yc8i-DJalZq8"
      },
      "execution_count": null,
      "outputs": []
    },
    {
      "cell_type": "markdown",
      "source": [
        "#### ***Task 3*** - Generate event rate maps from combined calcium imaging and behavioral data, and plot statistics such as calcium event rate and spatial reliability for each recorded neuron"
      ],
      "metadata": {
        "id": "d5N0BahZlaCh"
      }
    },
    {
      "cell_type": "code",
      "source": [],
      "metadata": {
        "id": "Revd0sBQlju7"
      },
      "execution_count": null,
      "outputs": []
    },
    {
      "cell_type": "code",
      "source": [],
      "metadata": {
        "id": "ps5-zFI8lkeV"
      },
      "execution_count": null,
      "outputs": []
    },
    {
      "cell_type": "code",
      "source": [],
      "metadata": {
        "id": "t91O_dWYlkhA"
      },
      "execution_count": null,
      "outputs": []
    },
    {
      "cell_type": "markdown",
      "source": [
        "#### ***Task 4*** - Decode animal position from calcium imaging data, and plot the results in an intuitive and informative way"
      ],
      "metadata": {
        "id": "EQvn191elkvo"
      }
    },
    {
      "cell_type": "code",
      "source": [],
      "metadata": {
        "id": "6EpuYGnHlsnW"
      },
      "execution_count": null,
      "outputs": []
    },
    {
      "cell_type": "code",
      "source": [],
      "metadata": {
        "id": "N3nySqrFlw2Y"
      },
      "execution_count": null,
      "outputs": []
    },
    {
      "cell_type": "code",
      "source": [],
      "metadata": {
        "id": "JFl2qwMTlw5d"
      },
      "execution_count": null,
      "outputs": []
    }
  ]
}